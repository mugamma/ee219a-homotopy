{
 "cells": [
  {
   "cell_type": "markdown",
   "metadata": {},
   "source": [
    "# Interface\n",
    "The interface consists of the following modules. `homotopy.py` defines `HomotopyTrack`:"
   ]
  },
  {
   "cell_type": "code",
   "execution_count": 1,
   "metadata": {},
   "outputs": [],
   "source": [
    "import numpy as np\n",
    "import matplotlib.pyplot as plt"
   ]
  },
  {
   "cell_type": "code",
   "execution_count": 2,
   "metadata": {},
   "outputs": [],
   "source": [
    "# %load homotopy.py\n",
    "from typing import Tuple\n",
    "import numpy as np\n",
    "import scipy\n",
    "\n",
    "class HomotopyTrack:\n",
    "    \"\"\"The Homotopy Track Interface\n",
    "\n",
    "       A homotopy track consists of a homotopy function and the interval on\n",
    "       which parameter continuation should take place. The homotopy parameter\n",
    "       is not supplied to the methods separately and the last component of the\n",
    "       `point` parameter is interpreted as the homotopy parameter.\n",
    "    \"\"\"\n",
    "\n",
    "    def initial_point(self) -> np.ndarray:\n",
    "        \"\"\"Return the initial point on the continuation track.\"\"\"\n",
    "        raise NotImplementedError\n",
    "\n",
    "    def tangent(self, point: np.ndarray) -> np.ndarray:\n",
    "        \"\"\"Return the tangent vector of the continuation track at `point`.\n",
    "\n",
    "        The tangent should be a unit vector in the kernel of the gradient map.\n",
    "        The direction of the tangent indicates the direction of continuation.\n",
    "        \"\"\"\n",
    "        raise NotImplementedError\n",
    "\n",
    "    def homotopy(self, point: np.ndarray) -> np.ndarray:\n",
    "        \"\"\"Return the value of homotopy at `point`.\"\"\"\n",
    "        raise NotImplementedError\n",
    "\n",
    "    def gradient(self, point: np.ndarray) -> np.ndarray:\n",
    "        \"\"\"Return the value of the gradient map of the homotopy at `point`.\n",
    "\n",
    "        Consistent with the convention that the last component of `point` is\n",
    "        interpreted as the homotopy parameter, the last column of the matrix\n",
    "        representing the gradient map corresponds to the partial derivatives\n",
    "        with respect to the homotopy parameter.\n",
    "        \"\"\"\n",
    "        raise NotImplementedError\n",
    "\n",
    "    @property\n",
    "    def param_range(self) -> Tuple[float, float]:\n",
    "        \"\"\"2-tuple indicating the interval of continuation\"\"\"\n",
    "        raise NotImplementedError\n"
   ]
  },
  {
   "cell_type": "markdown",
   "metadata": {},
   "source": [
    "The `HomotopyTrack` class is used to indicate homotopy problem to be solved. On the other hand, `preditor_corrector.py` contains a general description of the predictor-corrector continuation methods and an implementation of the Euler-Newton curve tracing method:"
   ]
  },
  {
   "cell_type": "code",
   "execution_count": 3,
   "metadata": {},
   "outputs": [],
   "source": [
    "# %load predictor_corrector.py\n",
    "import numpy as np\n",
    "\n",
    "from homotopy import HomotopyTrack\n",
    "from stepadj import StepAdjuster\n",
    "from convergence import HomotopyConvCriterion\n",
    "\n",
    "class PredictorCorrectorMethod:\n",
    "    \"\"\"A General Predictor Corrector Method\"\"\"\n",
    "    def __init__(self, step_adjuster: StepAdjuster,\n",
    "            trace_conv_criterion: HomotopyConvCriterion,\n",
    "            corrector_conv_criterion: HomotopyConvCriterion):\n",
    "        self.step_adjuster = step_adjuster\n",
    "        self.trace_conv_criterion = trace_conv_criterion\n",
    "        self.corrector_conv_criterion = corrector_conv_criterion\n",
    "\n",
    "    def predict(self, track: HomotopyTrack, cur_point: np.ndarray):\n",
    "        \"\"\"Predict and return the next point on the homotopy track.\"\"\"\n",
    "        raise NotImplementedError\n",
    "\n",
    "    def correct(self, estimate: np.ndarray, track: HomotopyTrack):\n",
    "        \"\"\"Correct the supplied estimate of the given point on the track.\n",
    "        \n",
    "        The correct method should only implement a single correction step.\n",
    "        Correction steps are applied until the corrected estimate is accurate\n",
    "        enough as indicated by `self.corrector_conv_criterion`, or an error is\n",
    "        raised.\n",
    "        \"\"\"\n",
    "        raise NotImplementedError\n",
    "\n",
    "    def trace(self, track: HomotopyTrack):\n",
    "        \"\"\"Trace the given homotopy track and return the final point.\"\"\"\n",
    "        point = track.initial_point()\n",
    "        self.trace_conv_criterion.reset()\n",
    "        while not self.trace_conv_criterion.converged(point, track):\n",
    "            estimate = self.predict(track, point)\n",
    "            self.corrector_conv_criterion.reset()\n",
    "            while not self.corrector_conv_criterion.converged(estimate, track):\n",
    "                estimate = self.correct(estimate, track)\n",
    "            point = estimate\n",
    "            self.step_adjuster.adjust(track, point)\n",
    "        return point\n",
    "\n",
    "class EulerNewton(PredictorCorrectorMethod):\n",
    "    def predict(self, track: HomotopyTrack, point):\n",
    "        \"\"\"Return the next point according to the forward Euler predictor.\n",
    "\n",
    "        The next point is estimated using a step similar to the step used in\n",
    "        the forward version of Euler's method.\n",
    "        \"\"\"\n",
    "        return point + self.step_adjuster.cur_step_size * track.tangent(point)\n",
    "\n",
    "    def correct(self, estimate, track: HomotopyTrack):\n",
    "        \"\"\"Return the correction of the estimate using a Newton correction.\n",
    "\n",
    "        The Newton family of correctors use the current estimate as the initial\n",
    "        guess in an iterative method similar to Newton's method to solve for\n",
    "        the corrected point. This method uses `estimate` as the initial guess\n",
    "        in one step of Newton's method and uses the pseudo-inverse of the\n",
    "        gradient map in the iterate function.\n",
    "        \"\"\"\n",
    "        J = track.gradient(estimate)\n",
    "        # make sure gradient vectors are expressed as 1xn matrices.\n",
    "        if len(J.shape) == 1:\n",
    "            J = J.reshape(1, -1)\n",
    "        return estimate - np.linalg.pinv(J) @ track.homotopy(estimate)\n"
   ]
  },
  {
   "cell_type": "markdown",
   "metadata": {},
   "source": [
    "The predictor step uses a step similar to a forward Euler update:\n",
    "$$\n",
    "u^{(t + 1)} = w^{(t)}+ h \\cdot t(H'(w^{(t)}))\n",
    "$$\n",
    "where $t(\\cdot)$ denotes the tangent vector of a matrix with nullity one, $H$ is the homotopy, $u$ is the uncorrected estimate and $w$ is the corrected estimate. The notation in this document is the same as Allogower's monograph on continuation methods. The corrector step uses a Newton-Raphson update that approximates the inverse of the gradient map using the pseudo-inverse of the Jacobian matrix. The following iteration is done until $w$ is desirably close to the track:\n",
    "$$\n",
    "w^{(t)}_{i + 1} = w^{(t)}_i - \\nabla H(w^{(t)}_i)^+ H(w^{(t)}_i) \\qquad w^{(t)}_0 = u^{(t)}.\n",
    "$$"
   ]
  },
  {
   "cell_type": "markdown",
   "metadata": {},
   "source": [
    "For many problems, given the homotopy, the class can be populated using automatic differentiation and numeric linear algebra. `autohomotopy.py` illustrates this idea, although this class is experimental and not thoroughly tested:"
   ]
  },
  {
   "cell_type": "code",
   "execution_count": 4,
   "metadata": {},
   "outputs": [],
   "source": [
    "# %load autohomotopy.py\n",
    "import autograd\n",
    "\n",
    "class AutoHomotopyTrack(HomotopyTrack):    \n",
    "    def __init__(self, homotopy, init_root=None, init_param=0, final_param=1):\n",
    "        self._homotopy = homotopy\n",
    "        self.param_range = (init_param, final_param)\n",
    "        self.init_root = init_root\n",
    "        self._prev_tan = self.__init_tan()\n",
    "\n",
    "    def initial_point(self):\n",
    "        if self._init_root is None:\n",
    "            raise NotImplementedError\n",
    "        return np.hstack([self._init_root, self.param_range[0]])\n",
    "\n",
    "    def tangent(self, point):\n",
    "        grad = self.gradient(point) \n",
    "        tan = __ker_unit_basis(grad)\n",
    "        tan *= np.sign(np.dot(tan, self._prev_tan))\n",
    "        self._prev_tan = tan\n",
    "        return tan\n",
    "\n",
    "    def homotopy(self, point):\n",
    "        return self._homotopy(point[:-1], point[-1])\n",
    "\n",
    "    def gradient(self, point):\n",
    "        return autograd.jacobian(self.homotopy)(point)\n",
    "\n",
    "    def __init_tan(self):\n",
    "        n = len(self.init_root) if isinstance(self.init_root, np.ndarray) else 1\n",
    "        init_tan = np.zeros(n)\n",
    "        init_tan[-1] = np.sign(self.param_range[1] - self.param_range[0])\n",
    "        return init_tan\n",
    "    \n",
    "    @staticmethod\n",
    "    def __ker_unit_basis(mat):\n",
    "        # XXX precond: mat.shape is (n, n+1) and rank(mat) = n\n",
    "        _, __, u = scipy.linalg.lu(mat)\n",
    "        ker_basis = np.zeros(mat.shape[1])\n",
    "        ker_basis[-1] = 1\n",
    "        for i in reversed(range(mat.shape[0])):\n",
    "            ker_basis[i] = -np.dot(ker_basis, u[i, :]) / u[i, i]\n",
    "        ker_basis /= np.linalg.norm(ker_basis)\n",
    "        return ker_basis\n"
   ]
  },
  {
   "cell_type": "markdown",
   "metadata": {},
   "source": [
    "The predictor-corrector methods rely on helper classes that implement time-step correction and specify convergence criteria. As of now, only a trivial step controller with a constant time step is implemented, but the interface is fully defined in `stepadj.py`:"
   ]
  },
  {
   "cell_type": "code",
   "execution_count": 5,
   "metadata": {},
   "outputs": [],
   "source": [
    "# %load stepadj.py\n",
    "import numpy as np\n",
    "\n",
    "class StepAdjuster:\n",
    "    \"\"\"A General Time-step Controller\"\"\"\n",
    "    def adjust(self, track, point):\n",
    "        \"\"\"Adjust the time step according to the current point on the track.\"\"\"\n",
    "        raise NotImplementedError\n",
    "\n",
    "    @property\n",
    "    def cur_step_size(self):\n",
    "        \"\"\"a float giving the current time step\"\"\"\n",
    "        raise NotImplementedError\n",
    "\n",
    "class ConstantStep(StepAdjuster):\n",
    "    \"\"\"A Time-step Controller with a Constant Step Size\"\"\"\n",
    "    def __init__(self, h=1e-2):\n",
    "        self.h = h\n",
    "\n",
    "    def adjust(self, track, point):\n",
    "        pass\n",
    "\n",
    "    @property\n",
    "    def cur_step_size(self):\n",
    "        return self.h\n"
   ]
  },
  {
   "cell_type": "markdown",
   "metadata": {},
   "source": [
    "Another helper class used by the `PredictorCorrectorMethod` class is the convergence criterion as defined in `convergence.py`:"
   ]
  },
  {
   "cell_type": "code",
   "execution_count": 6,
   "metadata": {},
   "outputs": [],
   "source": [
    "# %load convergence.py\n",
    "import numpy as np\n",
    "from homotopy import HomotopyTrack\n",
    "\n",
    "class ConvCriterion:\n",
    "    \"\"\"General Convergence Criterion\"\"\"\n",
    "    def converged(self, *args) -> bool:\n",
    "        \"\"\"Return whether convergence is achieved.\"\"\"\n",
    "        raise NotImplementedError\n",
    "\n",
    "    def reset(self):\n",
    "        \"\"\"Reset the state of the criterion tracker.\n",
    "\n",
    "        Convergence criterion objects hold state, e.g. the number of iterations\n",
    "        so far. This method resets the state of `self` so that it can be reused.\n",
    "        \"\"\"\n",
    "        raise NotImplementedError\n",
    "\n",
    "class FailedToConverge(Exception):\n",
    "    \"\"\"Exception Indicating Failure in Convergence\"\"\"\n",
    "    pass\n",
    "\n",
    "class HomotopyConvCriterion(ConvCriterion):\n",
    "    \"\"\"General Convergence Criterion for Homotopy Methods\"\"\"\n",
    "    def converged(self, point, track: HomotopyTrack):\n",
    "        raise NotImplementedError\n"
   ]
  },
  {
   "cell_type": "markdown",
   "metadata": {},
   "source": [
    "---\n",
    "## Example\n",
    "Below comes an example of how to use the code to solve for the steady state of an op-amp Schmitt trigger circuit. The script as a whole is accessible in `schmitt_trigger.py`."
   ]
  },
  {
   "cell_type": "markdown",
   "metadata": {},
   "source": [
    "First, we need to define the homotopy track. In this example the function whose zero we are trying to find is given by\n",
    "$$\n",
    "f(v_o) = \\tanh\\left(k(\\frac{v_o}{2} - v_i)\\right) - v_o \\qquad k = 10\n",
    "$$\n",
    "Taking $v_o$ as our state variable and $v_i$ as our homotopy continuation parameter we can define the following homotopy:\n",
    "$$\n",
    "h(x, \\lambda) = \\tanh\\left(k(\\frac{x}{2} - \\lambda)\\right) - x \\qquad k = 10.\n",
    "$$\n",
    "In this problem, our starting parametr is $\\lambda = -0.8$ which gives an initial root that is very close to 1. The final parameter in our case is $\\lambda = 0.8$. Because of choice of parameters, we make sure that the tangent vector always has a positive component corresponding to $\\lambda$."
   ]
  },
  {
   "cell_type": "code",
   "execution_count": 7,
   "metadata": {},
   "outputs": [],
   "source": [
    "class SchmittTriggerHomotopyTrack(HomotopyTrack):\n",
    "    def __init__(self, k=10):\n",
    "        self.k = k\n",
    "        self._prev_tan = np.array([0, 1])\n",
    "\n",
    "    def initial_point(self):\n",
    "        return np.array([1, -0.8])\n",
    "\n",
    "    def final_param(self):\n",
    "        return 0.8\n",
    "\n",
    "    def tangent(self, point):\n",
    "        grad = self.gradient(point)\n",
    "        tan = np.array([-grad[1], grad[0]]) / np.linalg.norm(grad)\n",
    "        tan *= np.sign(np.dot(self._prev_tan, tan))\n",
    "        self._prev_tan = tan\n",
    "        return tan\n",
    "\n",
    "    def homotopy(self, point):\n",
    "        x, lambda_ = point[:-1], point[-1]\n",
    "        return self.f(x, lambda_)\n",
    "\n",
    "    def gradient(self, point):\n",
    "        x, lambda_ = point[:-1], point[-1]\n",
    "        return np.array([self.df_dvo(x, lambda_), self.df_dvi(x, lambda_)]).flatten()\n",
    "\n",
    "    def f(self, vo, vi):\n",
    "        return np.tanh(self.k * (vo/2 - vi)) - vo\n",
    "\n",
    "    def df_dvi(self, vo, vi):\n",
    "        return -self.k * (1 - np.tanh(self.k * (vo/2 - vi))**2)\n",
    "\n",
    "    def df_dvo(self, vo, vi):\n",
    "        return self.k/2 * (1 - np.tanh(self.k * (vo/2 - vi))**2) - 1"
   ]
  },
  {
   "cell_type": "markdown",
   "metadata": {},
   "source": [
    "To solve the continuation problem, we only need to specify our convergence criteria and call the Euler-Newton function. Here, we choose a simple absolute tolerance convergence criterion for the corrector, and continue tracing the curve until we have reached our final homotopy parameter. We also indicate a maximum for both the number of continuation steps and the number of corrector iterations."
   ]
  },
  {
   "cell_type": "code",
   "execution_count": 8,
   "metadata": {},
   "outputs": [],
   "source": [
    "class SimpleCorrectorConvCriterion(HomotopyConvCriterion):\n",
    "    def __init__(self, tol, maxiters):\n",
    "        self.tol = tol\n",
    "        self.maxiters = maxiters\n",
    "        self._iter = 0\n",
    "\n",
    "    def reset(self):\n",
    "        self._iter = 0\n",
    "\n",
    "    def converged(self, point, track):\n",
    "        if self._iter > self.maxiters:\n",
    "            raise FailedToConverge('corrector failed to converge')\n",
    "        self._iter += 1\n",
    "        u = track.homotopy(point)\n",
    "        return abs(u) < self.tol\n"
   ]
  },
  {
   "cell_type": "code",
   "execution_count": 9,
   "metadata": {},
   "outputs": [],
   "source": [
    "class SimpleTracerConvCriterion(HomotopyConvCriterion):\n",
    "    def __init__(self, tol, maxiters):\n",
    "        self.tol = tol\n",
    "        self.maxiters = maxiters\n",
    "        self._iter = 0\n",
    "        self.sol_arc = []\n",
    "\n",
    "    def reset(self):\n",
    "        self._iter = 0\n",
    "        self.sol_arc = []\n",
    "\n",
    "    def converged(self, point, track):\n",
    "        if self._iter > self.maxiters:\n",
    "            raise FailedToConverge('tracer failed to converge')\n",
    "        self._iter += 1\n",
    "        self.sol_arc.append(point)\n",
    "        return point[-1] > track.final_param()\n"
   ]
  },
  {
   "cell_type": "markdown",
   "metadata": {},
   "source": [
    "We also keep track of the track points inside `SimpleTracerConvCriterion` so that we can plot them later."
   ]
  },
  {
   "cell_type": "markdown",
   "metadata": {},
   "source": [
    "We now construct the model "
   ]
  },
  {
   "cell_type": "code",
   "execution_count": 10,
   "metadata": {},
   "outputs": [],
   "source": [
    "stepsize = ConstantStep(1e-2)\n",
    "trace_conv_criterion = SimpleTracerConvCriterion(1e-6, 10000)\n",
    "corrector_conv_criterion = SimpleCorrectorConvCriterion(1e-6, 1000)\n",
    "tracer = EulerNewton(stepsize, trace_conv_criterion, corrector_conv_criterion)\n",
    "schmitt_trigger_track = SchmittTriggerHomotopyTrack()"
   ]
  },
  {
   "cell_type": "markdown",
   "metadata": {},
   "source": [
    "and solve"
   ]
  },
  {
   "cell_type": "code",
   "execution_count": 11,
   "metadata": {},
   "outputs": [
    {
     "data": {
      "text/plain": [
       "array([-1.00000033,  0.80670168])"
      ]
     },
     "execution_count": 11,
     "metadata": {},
     "output_type": "execute_result"
    }
   ],
   "source": [
    "tracer.trace(schmitt_trigger_track)"
   ]
  },
  {
   "cell_type": "markdown",
   "metadata": {},
   "source": [
    "The continuation plot comes "
   ]
  },
  {
   "cell_type": "code",
   "execution_count": 12,
   "metadata": {},
   "outputs": [
    {
     "data": {
      "image/png": "[encoded data removed]",
      "text/plain": [
       "<Figure size 432x288 with 1 Axes>"
      ]
     },
     "metadata": {
      "needs_background": "light"
     },
     "output_type": "display_data"
    }
   ],
   "source": [
    "\n",
    "vos, lambdas = tuple(zip(*trace_conv_criterion.sol_arc))\n",
    "plt.plot(lambdas, vos)\n",
    "plt.show()"
   ]
  }
 ],
 "metadata": {
  "kernelspec": {
   "display_name": "Python 3",
   "language": "python",
   "name": "python3"
  },
  "language_info": {
   "codemirror_mode": {
    "name": "ipython",
    "version": 3
   },
   "file_extension": ".py",
   "mimetype": "text/x-python",
   "name": "python",
   "nbconvert_exporter": "python",
   "pygments_lexer": "ipython3",
   "version": "3.7.3"
  }
 },
 "nbformat": 4,
 "nbformat_minor": 2
}
